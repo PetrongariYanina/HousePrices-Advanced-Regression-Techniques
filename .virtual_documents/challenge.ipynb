import pandas as pd
import seaborn as sns
import matplotlib.pyplot as plt
import numpy as np
from sklearn.model_selection import KFold
from sklearn.model_selection import train_test_split
from sklearn.preprocessing import StandardScaler
from sklearn.metrics import accuracy_score
from sklearn.linear_model import LogisticRegression
import numpy as np
from sklearn.linear_model import Ridge, Lasso
from sklearn.model_selection import train_test_split
from sklearn.metrics import mean_squared_error






df = pd.read_csv('train.csv')
df.head()


df.describe()


df= df.drop(columns=['Alley', 'MasVnrType', 'PoolQC', 'Fence', 'MiscFeature'])


df['MSZoning'].unique()


df.info()





df = df.drop_duplicates()
df.describe(include=['object'])


numeric_columns = df.select_dtypes(include=['number'])

corr = numeric_columns.corr()
fig = plt.subplots(figsize=(25,15))
sns.heatmap(corr, annot=True, cmap='coolwarm', fmt='.1f')


from sklearn.model_selection import KFold
import pandas as pd
import numpy as np


X = df.drop(columns=['SalePrice'])
y = df['SalePrice']

X_train, X_test, y_train, y_test = train_test_split(X, y, test_size=0.2, random_state=42)

categorical_data = X.select_dtypes(include=['object'])


kf = KFold(n_splits=5, shuffle=True, random_state=42)


encoded_values = pd.Series(index=X.index, dtype=np.float64)


for train_idx, val_idx in kf.split(X):
    
    X_train_fold, X_val_fold = X.iloc[train_idx], X.iloc[val_idx]
    y_train_fold = y.iloc[train_idx]
    
   
    for categorical_column in categorical_data.columns:
        
        means = y_train_fold.groupby(X_train_fold[categorical_column]).mean()
        
        
        encoded_values.iloc[val_idx] = X_val_fold[categorical_column].map(means)

    
    global_mean = y_train.mean()
    encoded_values.fillna(global_mean, inplace=True)


X['categoria_encoded'] = encoded_values






numeric_columns['LotFrontage'] = numeric_columns['LotFrontage'].fillna(numeric_columns['LotFrontage'].median())
numeric_columns['MasVnrArea'] = numeric_columns['MasVnrArea'].fillna(numeric_columns['MasVnrArea'].median())
numeric_columns['GarageYrBlt'] = numeric_columns['GarageYrBlt'].fillna(numeric_columns['GarageYrBlt'].median())


numeric_columns.info()



X= df.drop(columns = ['SalePrice'])
y= df['SalePrice']


X_train, X_test, y_train, y_test = train_test_split(X, y, test_size=0.2, random_state=42)









logistic_model = LogisticRegression(max_iter=500)
logistic_model.fit(X_train, y_train)
y_pred_logistic = logistic_model.predict(X_test)

logisctic_accuracy = accuracy_score(y_test, y_pred_logistic)
logisctic_accuracy
