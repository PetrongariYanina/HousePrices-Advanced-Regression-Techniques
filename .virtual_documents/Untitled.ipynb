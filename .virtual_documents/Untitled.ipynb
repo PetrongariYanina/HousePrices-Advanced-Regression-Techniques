import pandas as pd
import seaborn as sns
import matplotlib.pyplot as plt





df = pd.read_csv('train.csv')
df.head()


df.describe()


df= df.drop(columns=['Alley', 'MasVnrType', 'PoolQC', 'Fence', 'MiscFeature'])


df['MSZoning'].unique()


df.info()


df = df.drop_duplicates()
df.describe(include=['object'])


numeric_columns = df.select_dtypes(include=['number'])

corr = numeric_columns.corr()
fig = plt.subplots(figsize=(25,15))
sns.heatmap(corr, annot=True, cmap='coolwarm', fmt='.1f')





from sklearn.model_selection import train_test_split
from sklearn.preprocessing import StandardScaler
from sklearn.metrics import accuracy_score
from sklearn.linear_model import LogisticRegression

X= df.drop(columns = ['SalePrice'])
y= df['SalePrice']


X_train, X_test, y_train, y_test = train_test_split(X, y, test_size=0.2, random_state=42)



logistic_model = LogisticRegression
logistic_model.fit(X_train, y_train)
y_pred_logistic = logistic_model.predict(X_test)

logisctic_accuracy = accuracy_score(y_test, y_pred_logistic)
